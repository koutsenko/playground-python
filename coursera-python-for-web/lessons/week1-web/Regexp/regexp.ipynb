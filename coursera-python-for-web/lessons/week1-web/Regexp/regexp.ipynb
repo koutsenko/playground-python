{
 "cells": [
  {
   "cell_type": "code",
   "execution_count": 1,
   "metadata": {},
   "outputs": [
    {
     "data": {
      "text/plain": [
       "'80,7749'"
      ]
     },
     "execution_count": 1,
     "metadata": {},
     "output_type": "execute_result"
    }
   ],
   "source": [
    "import re\n",
    "html = \"Курс евро на сегодня 80,7749, курс евро на завтра 81,1234\"\n",
    "# Ищет первое же вхождение. Игнорируем регистр букв\n",
    "match = re.search(r'Евро\\D+(\\d+,\\d+)', html, re.IGNORECASE)\n",
    "# Запрашиваем первую группу первого вхождения.\n",
    "rate = match.group(1)\n",
    "rate"
   ]
  },
  {
   "cell_type": "code",
   "execution_count": 8,
   "metadata": {},
   "outputs": [
    {
     "data": {
      "text/plain": [
       "True"
      ]
     },
     "execution_count": 8,
     "metadata": {},
     "output_type": "execute_result"
    }
   ],
   "source": [
    "match = re.search(r'Евро\\D+(\\d+,\\d+)', html)\n",
    "match is None"
   ]
  },
  {
   "cell_type": "code",
   "execution_count": 10,
   "metadata": {},
   "outputs": [
    {
     "data": {
      "text/plain": [
       "'1,1234'"
      ]
     },
     "execution_count": 10,
     "metadata": {},
     "output_type": "execute_result"
    }
   ],
   "source": [
    "# По-умолчанию жадный поиск, вернет второе число, остаток смачивается\n",
    "match = re.search(r'Евро.*(\\d+,\\d+)', html, re.IGNORECASE).group(1)\n",
    "match"
   ]
  },
  {
   "cell_type": "code",
   "execution_count": 11,
   "metadata": {},
   "outputs": [
    {
     "data": {
      "text/plain": [
       "'80,7749'"
      ]
     },
     "execution_count": 11,
     "metadata": {},
     "output_type": "execute_result"
    }
   ],
   "source": [
    "# Нежадный поиск, вернет первое число\n",
    "match = re.search(r'Евро.*?(\\d+,\\d+)', html, re.IGNORECASE).group(1)\n",
    "match"
   ]
  },
  {
   "cell_type": "code",
   "execution_count": 12,
   "metadata": {},
   "outputs": [
    {
     "data": {
      "text/plain": [
       "['80,7749', '81,1234']"
      ]
     },
     "execution_count": 12,
     "metadata": {},
     "output_type": "execute_result"
    }
   ],
   "source": [
    "# Одна группа - найдет все ее вхождения\n",
    "re.findall(r'Евро\\D+(\\d+,\\d+)', html, re.IGNORECASE)"
   ]
  },
  {
   "cell_type": "code",
   "execution_count": 13,
   "metadata": {},
   "outputs": [
    {
     "data": {
      "text/plain": [
       "['евро на сегодня 80,7749', 'евро на завтра 81,1234']"
      ]
     },
     "execution_count": 13,
     "metadata": {},
     "output_type": "execute_result"
    }
   ],
   "source": [
    "# Ноль групп - найдет все вхождения всей строки\n",
    "re.findall(r'Евро\\D+\\d+,\\d+', html, re.IGNORECASE)"
   ]
  },
  {
   "cell_type": "code",
   "execution_count": 14,
   "metadata": {},
   "outputs": [
    {
     "data": {
      "text/plain": [
       "[('80', '7749'), ('81', '1234')]"
      ]
     },
     "execution_count": 14,
     "metadata": {},
     "output_type": "execute_result"
    }
   ],
   "source": [
    "# Несколько групп - вернет список кортежей\n",
    "re.findall(r'Евро\\D+(\\d+),(\\d+)', html, re.IGNORECASE)"
   ]
  },
  {
   "cell_type": "code",
   "execution_count": 15,
   "metadata": {},
   "outputs": [
    {
     "data": {
      "text/plain": [
       "[('80,7749', '80', '7749'), ('81,1234', '81', '1234')]"
      ]
     },
     "execution_count": 15,
     "metadata": {},
     "output_type": "execute_result"
    }
   ],
   "source": [
    "# Вложенные группы - нумерация по скобкам\n",
    "re.findall(r'Евро\\D+((\\d+),(\\d+))', html, re.IGNORECASE)"
   ]
  },
  {
   "cell_type": "code",
   "execution_count": 16,
   "metadata": {},
   "outputs": [
    {
     "data": {
      "text/plain": [
       "['А123ВС77', 'К654НЕ197', 'М542ОР777', 'О007ОО77']"
      ]
     },
     "execution_count": 16,
     "metadata": {},
     "output_type": "execute_result"
    }
   ],
   "source": [
    "# Поиск автомобильных номеров\n",
    "text = '''\n",
    "Автомобиль с номером А123ВС77 подрезал автомобиль\n",
    "К654НЕ197, спровоцировав ДТП с участием еще двух\n",
    "иномарок с номерами М542ОР777 и О007ОО77\n",
    "'''\n",
    "import re\n",
    "pattern = r'[АВЕКМНОРСТУХ]\\d{3}[АВЕКМНОРСТУХ]{2}\\d{2,3}'\n",
    "re.findall(pattern, text)"
   ]
  },
  {
   "cell_type": "code",
   "execution_count": 20,
   "metadata": {},
   "outputs": [
    {
     "name": "stdout",
     "output_type": "stream",
     "text": [
      "valid nickname: \"sU3r_h4XX0r\"\"\n",
      "invalid nickname: \"alёna\"\"\n",
      "invalid nickname: \"ivan ivanovich\"\"\n"
     ]
    }
   ],
   "source": [
    "import re\n",
    "nicknames = ['sU3r_h4XX0r', 'alёna', 'ivan ivanovich']\n",
    "reg = re.compile(r'^\\w+$', re.ASCII)\n",
    "for nick in nicknames:\n",
    "    print('{} nickname: \"{}\"\"'.format(\n",
    "        'valid' if reg.match(nick) else 'invalid',\n",
    "        nick\n",
    "    ))"
   ]
  },
  {
   "cell_type": "code",
   "execution_count": 26,
   "metadata": {},
   "outputs": [
    {
     "data": {
      "text/plain": [
       "['Анна', 'Лена', 'Яна', 'ПОЛИНА']"
      ]
     },
     "execution_count": 26,
     "metadata": {},
     "output_type": "execute_result"
    }
   ],
   "source": [
    "# Знак вопроса и двоеточие - группируем но не запоминаем\n",
    "import re\n",
    "text = (\n",
    "    'Анна и Лена загорали на берегу океана, '\n",
    "    'когда к ним подошли Яна и ПОЛИНА Ильнар'\n",
    ")\n",
    "\n",
    "re.findall(r'\\b[А-Я]\\w*(?:на|НА)\\b', text)"
   ]
  },
  {
   "cell_type": "code",
   "execution_count": 28,
   "metadata": {},
   "outputs": [
    {
     "data": {
      "text/plain": [
       "['л', 'с', 'р', 'и']"
      ]
     },
     "execution_count": 28,
     "metadata": {},
     "output_type": "execute_result"
    }
   ],
   "source": [
    "# Поиск двойных букв - через обратные ссылки\n",
    "# Вернет ['л', 'с', 'р', 'и']\n",
    "import re\n",
    "text=\"Как защитить металл от процесса коррозии?\"\n",
    "\n",
    "re.findall(r'(\\w)\\1', text)"
   ]
  },
  {
   "cell_type": "code",
   "execution_count": 29,
   "metadata": {},
   "outputs": [
    {
     "data": {
      "text/plain": [
       "'К?к з?щитить мет?лл от процесс? коррозии?'"
      ]
     },
     "execution_count": 29,
     "metadata": {},
     "output_type": "execute_result"
    }
   ],
   "source": [
    "# Замена, вернет 'К?к з?щитить мет?лл от процесс? коррозии?'\n",
    "re.sub(r'а', '?', text)"
   ]
  },
  {
   "cell_type": "code",
   "execution_count": 32,
   "metadata": {},
   "outputs": [
    {
     "data": {
      "text/plain": [
       "'Как защитить метаЛЛ от процеССа коРРозИИ?'"
      ]
     },
     "execution_count": 32,
     "metadata": {},
     "output_type": "execute_result"
    }
   ],
   "source": [
    "# Хитрожопая замена, вернет 'Как защитить метаЛЛ от процеССа коРРозИИ?'\n",
    "re.sub(r'(\\w)\\1', lambda r: r.group(0).upper(), text)"
   ]
  },
  {
   "cell_type": "code",
   "execution_count": 33,
   "metadata": {},
   "outputs": [
    {
     "data": {
      "text/plain": [
       "'Как защитить [металл] от [процесса] [коррозии]?'"
      ]
     },
     "execution_count": 33,
     "metadata": {},
     "output_type": "execute_result"
    }
   ],
   "source": [
    "# Хитрожопая модификация, вернет 'Как защитить [металл] от [процесса] [коррозии]?'\n",
    "re.sub(r'\\b(\\w*(\\w)\\2\\w*)\\b', r'[\\1]', text)"
   ]
  },
  {
   "cell_type": "code",
   "execution_count": null,
   "metadata": {},
   "outputs": [],
   "source": []
  }
 ],
 "metadata": {
  "kernelspec": {
   "display_name": "Python 3.8.2 64-bit",
   "language": "python",
   "name": "python38264bitf3aacfb4b2034fe9bc044484be30a179"
  },
  "language_info": {
   "codemirror_mode": {
    "name": "ipython",
    "version": 3
   },
   "file_extension": ".py",
   "mimetype": "text/x-python",
   "name": "python",
   "nbconvert_exporter": "python",
   "pygments_lexer": "ipython3",
   "version": "3.8.2"
  }
 },
 "nbformat": 4,
 "nbformat_minor": 2
}
