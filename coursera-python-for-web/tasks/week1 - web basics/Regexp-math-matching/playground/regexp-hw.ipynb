{
 "cells": [
  {
   "cell_type": "code",
   "execution_count": 2,
   "metadata": {},
   "outputs": [],
   "source": [
    "import re"
   ]
  },
  {
   "cell_type": "code",
   "execution_count": 4,
   "metadata": {},
   "outputs": [
    {
     "name": "stdout",
     "output_type": "stream",
     "text": [
      "matched: <re.Match object; span=(0, 15), match='aбвгде12345@=+-'>\n",
      "group1: a\n"
     ]
    }
   ],
   "source": [
    "# Сохраняем регулярку в переменной pattern. Точка и звездочка = любой символ от нуля и более раз.\n",
    "pattern = '^(a).*$'\n",
    "\n",
    "# Текст в котором ищем\n",
    "source = 'aбвгде12345@=+-'\n",
    "\n",
    "# Строка удовлетворяющая паттерну\n",
    "matched = re.search(pattern, source)\n",
    "print('matched:',matched)\n",
    "\n",
    "# Первая группа в паттерне\n",
    "group1 = matched.groups()[0]\n",
    "print('group1:', group1)\n"
   ]
  },
  {
   "cell_type": "code",
   "execution_count": 20,
   "metadata": {},
   "outputs": [
    {
     "name": "stdout",
     "output_type": "stream",
     "text": [
      "a  =  1\n",
      "a  =  +1\n",
      "a  =  -1\n",
      "a  = b None\n",
      "a  = b +100\n",
      "a  = b -100\n",
      "b + =  10\n",
      "b + =  +10\n",
      "b + =  -10\n",
      "b + = b None\n",
      "b + = b +100\n",
      "b + = b -100\n",
      "c - =  101\n",
      "c - =  +101\n",
      "c - =  -101\n",
      "c - = b None\n",
      "c - = b +101\n",
      "c - = b -101\n"
     ]
    }
   ],
   "source": [
    "# Паттерн уже по домашнему заданию\n",
    "pattern = '^([abc])([+-]?)=([abc]?)([+-]?\\d+)?.*$'\n",
    "\n",
    "# Текст\n",
    "sources = [\n",
    "    'a=1',\n",
    "    'a=+1',\n",
    "    'a=-1',\n",
    "    'a=b',\n",
    "    'a=b+100',\n",
    "    'a=b-100',\n",
    "    'b+=10',\n",
    "    'b+=+10',\n",
    "    'b+=-10',\n",
    "    'b+=b',\n",
    "    'b+=b+100',\n",
    "    'b+=b-100',\n",
    "    'c-=101',\n",
    "    'c-=+101',\n",
    "    'c-=-101',\n",
    "    'c-=b',\n",
    "    'c-=b+101',\n",
    "    'c-=b-101'\n",
    "]\n",
    "\n",
    "for source in sources:\n",
    "    # Поиск\n",
    "    matched = re.search(pattern, source)\n",
    "\n",
    "    # Первая группа в паттерне\n",
    "    group1 = matched.groups()[0]\n",
    "    group2 = matched.groups()[1]\n",
    "    group3 = matched.groups()[2]\n",
    "    group4 = matched.groups()[3]\n",
    "\n",
    "    # Вывод\n",
    "    print(group1, group2, '=', group3, group4)"
   ]
  },
  {
   "cell_type": "code",
   "execution_count": 62,
   "metadata": {},
   "outputs": [
    {
     "name": "stdout",
     "output_type": "stream",
     "text": [
      "['b+=9', 'a=2', 'b+=10', 'a=b+100', 'b+=11', 'c-=b', 'a=b+2', 'a=b']\n"
     ]
    }
   ],
   "source": [
    "# Теперь попробуем выцепить группу целиком, а разобрать сможем ее второй регуляркой\n",
    "pattern = '([abc][+-]?=[abc]?[+-]?\\d*)'\n",
    "\n",
    "# Текст\n",
    "source = ',,,,,,b+=9,,,,a=2,,,,,,,b+=10,,,,,,a=b+100,,,,,b+=11,,,c-=b,,,a=b+2,,,,a=b,,'\n",
    "\n",
    "# Поиск\n",
    "matched = re.findall(pattern, source)\n",
    "\n",
    "# Вывод\n",
    "print(matched)"
   ]
  },
  {
   "cell_type": "code",
   "execution_count": 34,
   "metadata": {},
   "outputs": [
    {
     "name": "stdout",
     "output_type": "stream",
     "text": [
      "[('a', '=', '', '1')]\n",
      "[('a', '=', '', '+1')]\n",
      "[('a', '=', '', '-1')]\n",
      "[('a', '=', 'b', '')]\n",
      "[('a', '=', 'b', '+100')]\n",
      "[('a', '=', 'b', '-100')]\n",
      "[('b', '+=', '', '10')]\n",
      "[('b', '+=', '', '+10')]\n",
      "[('b', '+=', '', '-10')]\n",
      "[('b', '+=', 'b', '')]\n",
      "[('b', '+=', 'b', '+100')]\n",
      "[('b', '+=', 'b', '-100')]\n",
      "[('c', '-=', '', '101')]\n",
      "[('c', '-=', '', '+101')]\n",
      "[('c', '-=', '', '-101')]\n",
      "[('c', '-=', 'b', '')]\n",
      "[('c', '-=', 'b', '+101')]\n",
      "[('c', '-=', 'b', '-101')]\n",
      "Correct\n"
     ]
    }
   ],
   "source": [
    "import re\n",
    "\n",
    "def calculate(data, findall):\n",
    "    exprs = findall('[abc][+-]?=[abc]?[+-]?\\d*')\n",
    "    \n",
    "    for expr in exprs:\n",
    "        matches = re.findall('([abc])([+-]?=)([abc]?)([+-]?\\d+)?', expr)\n",
    "        print(matches)\n",
    "        for v1, s, v2, n in matches:          \n",
    "            if s == '+=':\n",
    "                data[v1] = data[v1] + data.get(v2, 0) + int(n or 0)   \n",
    "            elif s == '-=':\n",
    "                data[v1] = data[v1] - data.get(v2, 0) - int(n or 0)   \n",
    "            else:\n",
    "                data[v1] = data.get(v2, 0) + int(n or 0)   \n",
    "\n",
    "    return data\n",
    "\n",
    "data = {\n",
    "  \"a\": 5,\n",
    "  \"b\": -3,\n",
    "  \"c\": 30\n",
    "}\n",
    "\n",
    "def findall(regexp):\n",
    "    text = \"\"\"\n",
    "    a=1\n",
    "    a=+1\n",
    "    a=-1\n",
    "    a=b\n",
    "    a=b+100\n",
    "    a=b-100\n",
    "\n",
    "    b+=10\n",
    "    b+=+10\n",
    "    b+=-10\n",
    "    b+=b\n",
    "    b+=b+100\n",
    "    b+=b-100\n",
    "\n",
    "    c-=101\n",
    "    c-=+101\n",
    "    c-=-101\n",
    "    c-=b\n",
    "    c-=b+101\n",
    "    c-=b-101\n",
    "    \"\"\"\n",
    "    return re.findall(regexp, text)\n",
    "\n",
    "result = calculate({'a': 1, 'b': 2, 'c': 3}, findall)\n",
    "correct = {'a': -98, 'b': 196, 'c': -686}\n",
    "if result == correct:\n",
    "    print (\"Correct\")\n",
    "else:\n",
    "    print (\"Incorrect: %s != %s\" % (result, correct))\n",
    "\n",
    "\n",
    "\n",
    "\n"
   ]
  },
  {
   "cell_type": "code",
   "execution_count": null,
   "metadata": {},
   "outputs": [],
   "source": []
  }
 ],
 "metadata": {
  "kernelspec": {
   "display_name": "Python 3",
   "language": "python",
   "name": "python3"
  },
  "language_info": {
   "codemirror_mode": {
    "name": "ipython",
    "version": 3
   },
   "file_extension": ".py",
   "mimetype": "text/x-python",
   "name": "python",
   "nbconvert_exporter": "python",
   "pygments_lexer": "ipython3",
   "version": "3.8.2"
  }
 },
 "nbformat": 4,
 "nbformat_minor": 4
}
