{
 "cells": [
  {
   "cell_type": "code",
   "execution_count": 2,
   "metadata": {},
   "outputs": [],
   "source": [
    "import requests\n",
    "import vk\n",
    "from bs4 import BeautifulSoup"
   ]
  },
  {
   "cell_type": "code",
   "execution_count": 3,
   "metadata": {},
   "outputs": [
    {
     "name": "stdout",
     "output_type": "stream",
     "text": [
      "90,9206 90,9206\n"
     ]
    }
   ],
   "source": [
    "# XML с курсами валют\n",
    "response = requests.get(\"http://www.cbr.ru/scripts/XML_daily.asp\")\n",
    "soup = BeautifulSoup(response.content, \"xml\")\n",
    "\n",
    "eur1 = soup.find('CharCode', text='EUR').find_next_sibling('Value').string # Поиск курса Евро в XML-ноде\n",
    "eur2 = soup.find(ID=\"R01239\").Value.string # Альтернативный вариант - поиск по ID ноды\n",
    "print(eur1, eur2)"
   ]
  },
  {
   "cell_type": "code",
   "execution_count": 4,
   "metadata": {},
   "outputs": [
    {
     "name": "stdout",
     "output_type": "stream",
     "text": [
      "-4.45\n"
     ]
    }
   ],
   "source": [
    "# JSON с сайта погоды, через полученный на сайте API ключ. Надо подставить ключ в APPID.\n",
    "response = requests.get(\n",
    "    \"http://api.openweathermap.org/data/2.5/weather\", \n",
    "    params = {   \n",
    "        \"q\": \"Moscow\",\n",
    "        \"APPID\": \"\",\n",
    "        \"node\": \"json\",\n",
    "        \"units\": \"metric\"   \n",
    "    }\n",
    ")\n",
    "data = response.json()\n",
    "\n",
    "msk_temp = data['main']['temp']\n",
    "print(msk_temp)"
   ]
  },
  {
   "cell_type": "code",
   "execution_count": 5,
   "metadata": {},
   "outputs": [
    {
     "name": "stdout",
     "output_type": "stream",
     "text": [
      "{'response': [{'first_name': 'Lindsey', 'id': 210700286, 'last_name': 'Stirling', 'can_access_closed': True, 'is_closed': False, 'sex': 1, 'verified': 1, 'bdate': '21.9.1986', 'city': {'id': 5331, 'title': 'Los Angeles'}, 'country': {'id': 9, 'title': 'USA'}, 'photo_id': '210700286_457241013', 'career': []}]}\n"
     ]
    }
   ],
   "source": [
    "# Запрос пользователя ВК (https://vk.com/dev/users.get), надо подставить ключ в access_token.\n",
    "response = requests.get(\n",
    "    \"https://api.vk.com/method/users.get\",\n",
    "    params={\n",
    "        \"access_token\": \"8787d5538787d5538787d5532987f6b7d7887878787d553d923b3ce5efd5093fb89fee6\",\n",
    "        \"user_id\": \"210700286\",\n",
    "        \"v\": \"5.89\",\n",
    "        \"fields\": \"photo_id, verified, sex, bdate, city, country, home, career\", \n",
    "    }\n",
    ")\n",
    "data = response.json()\n",
    "\n",
    "print(data)"
   ]
  },
  {
   "cell_type": "code",
   "execution_count": null,
   "metadata": {},
   "outputs": [],
   "source": [
    "# Готовая библиотека ВК, надо подставить ключ в access_token.\n",
    "session = vk.Session()\n",
    "api = vk.API(session)\n",
    "api.users.get(\n",
    "    user_ids=210700286, \n",
    "    access_token=\"12345\",\n",
    "    v=\"5.89\"\n",
    ")"
   ]
  }
 ],
 "metadata": {
  "kernelspec": {
   "display_name": "api-lesson",
   "language": "python",
   "name": "api-lesson"
  },
  "language_info": {
   "codemirror_mode": {
    "name": "ipython",
    "version": 3
   },
   "file_extension": ".py",
   "mimetype": "text/x-python",
   "name": "python",
   "nbconvert_exporter": "python",
   "pygments_lexer": "ipython3",
   "version": "3.9.1"
  }
 },
 "nbformat": 4,
 "nbformat_minor": 2
}
